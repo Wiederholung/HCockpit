{
 "cells": [
  {
   "cell_type": "code",
   "execution_count": 1,
   "metadata": {},
   "outputs": [
    {
     "name": "stdout",
     "output_type": "stream",
     "text": [
      "Project root: \tc:\\Users\\Wiede\\OneDrive - Queen Mary, University of London\\Documentation\\Projects\\HCockpit\n",
      "Workspace: \tc:\\Users\\Wiede\\OneDrive - Queen Mary, University of London\\Documentation\\Projects\\HCockpit\\hcopilot_workspace\n",
      "Data: \tc:\\Users\\Wiede\\OneDrive - Queen Mary, University of London\\Documentation\\Projects\\HCockpit\\hcopilot_workspace\\data\n",
      "Output: \tc:\\Users\\Wiede\\OneDrive - Queen Mary, University of London\\Documentation\\Projects\\HCockpit\\hcopilot_workspace\\output\n",
      "Config: \tc:\\Users\\Wiede\\OneDrive - Queen Mary, University of London\\Documentation\\Projects\\HCockpit\\hcopilot_workspace\\config\n"
     ]
    }
   ],
   "source": [
    "import os, dotenv\n",
    "\n",
    "def find_project_root(start_dir=\".\"):\n",
    "    current_dir = os.path.abspath(start_dir)\n",
    "    while True:\n",
    "        if os.path.exists(os.path.join(current_dir, \".project_root\")):\n",
    "            return current_dir\n",
    "        \n",
    "        parent_dir = os.path.abspath(os.path.join(current_dir, \"..\"))\n",
    "        \n",
    "        if parent_dir == current_dir:\n",
    "            raise FileNotFoundError(\"Project root not found.\")\n",
    "        \n",
    "        current_dir = parent_dir\n",
    "\n",
    "PROJECT_ROOT = find_project_root()\n",
    "os.chdir(PROJECT_ROOT)\n",
    "WORKSPACE_PATH = os.path.join(PROJECT_ROOT, \"hcopilot_workspace\")\n",
    "DATA_PATH = os.path.join(WORKSPACE_PATH, \"data\")\n",
    "OUTPUT_PATH = os.path.join(WORKSPACE_PATH, \"output\")\n",
    "CONFIG_PATH = os.path.join(WORKSPACE_PATH, \"config\")\n",
    "\n",
    "dotenv.load_dotenv()  # load OPENAI_API_KEY from .env file:\n",
    "\n",
    "print(f\"\"\"Project root: \\t{PROJECT_ROOT}\n",
    "Workspace: \\t{WORKSPACE_PATH}\n",
    "Data: \\t{DATA_PATH}\n",
    "Output: \\t{OUTPUT_PATH}\n",
    "Config: \\t{CONFIG_PATH}\"\"\")\n"
   ]
  },
  {
   "cell_type": "code",
   "execution_count": 2,
   "metadata": {},
   "outputs": [
    {
     "name": "stdout",
     "output_type": "stream",
     "text": [
      "Enter some text that you want to speak >\n"
     ]
    },
    {
     "name": "stdout",
     "output_type": "stream",
     "text": [
      "Speech synthesized for text [Hello, I am HCopilot. I am here to help you drive safely.]\n"
     ]
    }
   ],
   "source": [
    "import os\n",
    "import azure.cognitiveservices.speech as speechsdk\n",
    "\n",
    "# This example requires environment variables named \"SPEECH_KEY\" and \"SPEECH_REGION\"\n",
    "speech_config = speechsdk.SpeechConfig(subscription=os.environ.get('SPEECH_KEY'), region=os.environ.get('SPEECH_REGION'))\n",
    "audio_config = speechsdk.audio.AudioOutputConfig(use_default_speaker=True)\n",
    "# audio_config_2 = speechsdk.audio.AudioOutputConfig(filename=os.path.join(OUTPUT_PATH, \"azure-speech.wav\"))\n",
    "\n",
    "# The neural multilingual voice can speak different languages based on the input text.\n",
    "speech_config.speech_synthesis_voice_name='en-US-BrianMultilingualNeural'\n",
    "\n",
    "speech_synthesizer = speechsdk.SpeechSynthesizer(speech_config=speech_config, audio_config=audio_config)\n",
    "\n",
    "# Get text from the console and synthesize to the default speaker.\n",
    "print(\"Enter some text that you want to speak >\")\n",
    "text = input()\n",
    "# text = \"Hello, I am HCopilot. I am here to help you drive safely.\"\n",
    "\n",
    "speech_synthesis_result = speech_synthesizer.speak_text_async(text).get()\n",
    "stream = speechsdk.AudioDataStream(speech_synthesis_result)\n",
    "stream.save_to_wav_file(os.path.join(OUTPUT_PATH, \"azure-speech.wav\"))\n",
    "\n",
    "if speech_synthesis_result.reason == speechsdk.ResultReason.SynthesizingAudioCompleted:\n",
    "    print(\"Speech synthesized for text [{}]\".format(text))\n",
    "elif speech_synthesis_result.reason == speechsdk.ResultReason.Canceled:\n",
    "    cancellation_details = speech_synthesis_result.cancellation_details\n",
    "    print(\"Speech synthesis canceled: {}\".format(cancellation_details.reason))\n",
    "    if cancellation_details.reason == speechsdk.CancellationReason.Error:\n",
    "        if cancellation_details.error_details:\n",
    "            print(\"Error details: {}\".format(cancellation_details.error_details))\n",
    "            print(\"Did you set the speech resource key and region values?\")\n",
    "            "
   ]
  }
 ],
 "metadata": {
  "kernelspec": {
   "display_name": "hcockpit",
   "language": "python",
   "name": "python3"
  },
  "language_info": {
   "codemirror_mode": {
    "name": "ipython",
    "version": 3
   },
   "file_extension": ".py",
   "mimetype": "text/x-python",
   "name": "python",
   "nbconvert_exporter": "python",
   "pygments_lexer": "ipython3",
   "version": "3.10.14"
  }
 },
 "nbformat": 4,
 "nbformat_minor": 2
}
